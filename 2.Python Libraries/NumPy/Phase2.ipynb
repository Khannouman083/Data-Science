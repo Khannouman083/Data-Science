{
 "cells": [
  {
   "cell_type": "markdown",
   "metadata": {},
   "source": [
    "## Array Operations in NumPy"
   ]
  },
  {
   "cell_type": "code",
   "execution_count": 2,
   "metadata": {},
   "outputs": [],
   "source": [
    "import numpy as np"
   ]
  },
  {
   "cell_type": "markdown",
   "metadata": {},
   "source": [
    "### Indexing and Slicing"
   ]
  },
  {
   "cell_type": "code",
   "execution_count": 6,
   "metadata": {},
   "outputs": [
    {
     "name": "stdout",
     "output_type": "stream",
     "text": [
      "[3 4 5 7 8]\n",
      "[2 4 7]\n",
      "4\n"
     ]
    }
   ],
   "source": [
    "arr = np.array([1,2,3,4,5,7,8])\n",
    "print(arr[2:7]) #basic slicing\n",
    "print(arr[1:7:2]) #slicing with steps\n",
    "print(arr[-4])"
   ]
  },
  {
   "cell_type": "code",
   "execution_count": 12,
   "metadata": {},
   "outputs": [
    {
     "name": "stdout",
     "output_type": "stream",
     "text": [
      "9\n",
      "[4 5 6]\n",
      "[2 5 8]\n"
     ]
    }
   ],
   "source": [
    "arr2D = np.array([[1,2,3],\n",
    "                  [4,5,6],\n",
    "                  [7,8,9]])\n",
    "print(arr2D[2,2]) #print specific element\n",
    "print(arr2D[1]) #prits entire row\n",
    "print(arr2D[:,1])\n"
   ]
  },
  {
   "cell_type": "markdown",
   "metadata": {},
   "source": [
    "### Sorting arrays"
   ]
  },
  {
   "cell_type": "code",
   "execution_count": 15,
   "metadata": {},
   "outputs": [
    {
     "name": "stdout",
     "output_type": "stream",
     "text": [
      "Sorted:  [1 2 3 4 6 7 8 9]\n"
     ]
    }
   ],
   "source": [
    "array_unsorted = np.array([1,3,4,2,9,8,7,6])\n",
    "print(\"Sorted: \",np.sort(array_unsorted))"
   ]
  },
  {
   "cell_type": "code",
   "execution_count": 19,
   "metadata": {},
   "outputs": [
    {
     "name": "stdout",
     "output_type": "stream",
     "text": [
      "[[4 5 7]\n",
      " [6 1 5]\n",
      " [4 6 8]]\n",
      "Sorted by columns\n",
      " [[4 1 5]\n",
      " [4 5 7]\n",
      " [6 6 8]]\n",
      "Sorted by rows\n",
      " [[4 5 7]\n",
      " [1 5 6]\n",
      " [4 6 8]]\n"
     ]
    }
   ],
   "source": [
    "arr2D_unsorted = np.random.randint(0,9,size=(3,3))\n",
    "print(arr2D_unsorted)\n",
    "print(\"Sorted by columns\\n\", np.sort(arr2D_unsorted, axis=0))\n",
    "print(\"Sorted by rows\\n\", np.sort(arr2D_unsorted, axis=1))"
   ]
  },
  {
   "cell_type": "markdown",
   "metadata": {},
   "source": [
    "### Filtering"
   ]
  },
  {
   "cell_type": "code",
   "execution_count": 23,
   "metadata": {},
   "outputs": [
    {
     "name": "stdout",
     "output_type": "stream",
     "text": [
      "[ 2  4  6  8 10]\n"
     ]
    }
   ],
   "source": [
    "numbers = np.array([1,2,3,4,5,6,7,8,9,10])\n",
    "even_numbers=numbers[numbers%2==0]\n",
    "print(even_numbers)"
   ]
  },
  {
   "cell_type": "code",
   "execution_count": 25,
   "metadata": {},
   "outputs": [
    {
     "name": "stdout",
     "output_type": "stream",
     "text": [
      "[1 3 5 7 9]\n"
     ]
    }
   ],
   "source": [
    "mask = numbers%2!=0\n",
    "print(numbers[mask])"
   ]
  },
  {
   "cell_type": "code",
   "execution_count": 26,
   "metadata": {},
   "outputs": [
    {
     "name": "stdout",
     "output_type": "stream",
     "text": [
      "[ 6  7  8  9 10]\n"
     ]
    }
   ],
   "source": [
    "where_result = np.where(numbers>5)\n",
    "print(numbers[where_result])"
   ]
  },
  {
   "cell_type": "markdown",
   "metadata": {},
   "source": [
    "### Fancy Indexing and Conditonal Arrays using where"
   ]
  },
  {
   "cell_type": "code",
   "execution_count": 28,
   "metadata": {},
   "outputs": [
    {
     "name": "stdout",
     "output_type": "stream",
     "text": [
      "[ 3  4  6  8 10]\n"
     ]
    }
   ],
   "source": [
    "indices = [2,3,5,7,9]\n",
    "print(numbers[indices])"
   ]
  },
  {
   "cell_type": "code",
   "execution_count": 29,
   "metadata": {},
   "outputs": [
    {
     "name": "stdout",
     "output_type": "stream",
     "text": [
      "[ 1  2  3 12 15 18 21 24 27 30]\n"
     ]
    }
   ],
   "source": [
    "conditonal_array=np.where(numbers>3,numbers*3,numbers)\n",
    "print(conditonal_array)"
   ]
  },
  {
   "cell_type": "markdown",
   "metadata": {},
   "source": [
    "### Adding and Removing Data"
   ]
  },
  {
   "cell_type": "code",
   "execution_count": 32,
   "metadata": {},
   "outputs": [
    {
     "name": "stdout",
     "output_type": "stream",
     "text": [
      "[ 2  3  5  7  9  4  3  7  8 10]\n"
     ]
    }
   ],
   "source": [
    "arr1 = np.array([2,3,5,7,9])\n",
    "arr2 = np.array([4,3,7,8,10])\n",
    "combined= np.concatenate((arr1,arr2))\n",
    "print(combined)\n"
   ]
  },
  {
   "cell_type": "code",
   "execution_count": 34,
   "metadata": {},
   "outputs": [
    {
     "name": "stdout",
     "output_type": "stream",
     "text": [
      "The Arrays and compatible for addition:  True\n"
     ]
    }
   ],
   "source": [
    "# checking compatitblity for operations\n",
    "print(\"The Arrays and compatible for addition: \",arr1.shape==arr2.shape)"
   ]
  },
  {
   "cell_type": "code",
   "execution_count": 36,
   "metadata": {},
   "outputs": [
    {
     "name": "stdout",
     "output_type": "stream",
     "text": [
      "Updated Array:  [[1 2 3]\n",
      " [4 5 6]\n",
      " [7 8 9]\n",
      " [5 1 8]]\n"
     ]
    }
   ],
   "source": [
    "my_array = np.array([[1,2,3],\n",
    "                     [4,5,6],\n",
    "                     [7,8,9]])\n",
    "new_row = np.array([[5,1,8]])\n",
    "print(\"Updated (Added Row) Array: \",np.vstack((my_array,new_row)))"
   ]
  },
  {
   "cell_type": "code",
   "execution_count": 40,
   "metadata": {},
   "outputs": [
    {
     "name": "stdout",
     "output_type": "stream",
     "text": [
      "Updated (Added Columns) Array:  [[1 2 3 5]\n",
      " [4 5 6 1]\n",
      " [7 8 9 8]]\n"
     ]
    }
   ],
   "source": [
    "new_col = np.array([[5],[1],[8]])\n",
    "print(\"Updated (Added Columns) Array: \",np.hstack((my_array,new_col)))"
   ]
  },
  {
   "cell_type": "code",
   "execution_count": 45,
   "metadata": {},
   "outputs": [
    {
     "name": "stdout",
     "output_type": "stream",
     "text": [
      "Deleted 1st Row [[4 5 6]\n",
      " [7 8 9]]\n"
     ]
    }
   ],
   "source": [
    "print(\"Deleted 1st Row\",np.delete(my_array,0,axis=0))"
   ]
  },
  {
   "cell_type": "code",
   "execution_count": 46,
   "metadata": {},
   "outputs": [
    {
     "name": "stdout",
     "output_type": "stream",
     "text": [
      "Deleted 1st Colums [[2 3]\n",
      " [5 6]\n",
      " [8 9]]\n"
     ]
    }
   ],
   "source": [
    "print(\"Deleted 1st Colums\",np.delete(my_array,0,axis=1))"
   ]
  }
 ],
 "metadata": {
  "kernelspec": {
   "display_name": ".venv",
   "language": "python",
   "name": "python3"
  },
  "language_info": {
   "codemirror_mode": {
    "name": "ipython",
    "version": 3
   },
   "file_extension": ".py",
   "mimetype": "text/x-python",
   "name": "python",
   "nbconvert_exporter": "python",
   "pygments_lexer": "ipython3",
   "version": "3.13.3"
  }
 },
 "nbformat": 4,
 "nbformat_minor": 2
}
