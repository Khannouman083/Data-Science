{
 "cells": [
  {
   "cell_type": "markdown",
   "metadata": {},
   "source": [
    "### Getting Started With Pandas in Python"
   ]
  },
  {
   "cell_type": "code",
   "execution_count": 1,
   "metadata": {},
   "outputs": [],
   "source": [
    "import pandas as pd"
   ]
  },
  {
   "cell_type": "markdown",
   "metadata": {},
   "source": [
    "### Creating a Series"
   ]
  },
  {
   "cell_type": "code",
   "execution_count": 2,
   "metadata": {},
   "outputs": [
    {
     "data": {
      "text/plain": [
       "0    10000\n",
       "1    20000\n",
       "2    30000\n",
       "3    40000\n",
       "4    50000\n",
       "dtype: int64"
      ]
     },
     "execution_count": 2,
     "metadata": {},
     "output_type": "execute_result"
    }
   ],
   "source": [
    "s=pd.Series([10000,20000,30000,40000,50000])\n",
    "s"
   ]
  },
  {
   "cell_type": "code",
   "execution_count": 3,
   "metadata": {},
   "outputs": [
    {
     "data": {
      "text/plain": [
       "0     10\n",
       "1     20\n",
       "2     30\n",
       "3     40\n",
       "4     50\n",
       "5    abc\n",
       "dtype: object"
      ]
     },
     "execution_count": 3,
     "metadata": {},
     "output_type": "execute_result"
    }
   ],
   "source": [
    "p=pd.Series([10,20,30,40,50,\"abc\"])\n",
    "p"
   ]
  },
  {
   "cell_type": "markdown",
   "metadata": {},
   "source": [
    "### Operations on a series"
   ]
  },
  {
   "cell_type": "code",
   "execution_count": 4,
   "metadata": {},
   "outputs": [
    {
     "name": "stdout",
     "output_type": "stream",
     "text": [
      "int64\n",
      "[10000 20000 30000 40000 50000]\n",
      "RangeIndex(start=0, stop=5, step=1)\n"
     ]
    }
   ],
   "source": [
    "print(s.dtype)\n",
    "print(s.values)\n",
    "print(s.index)"
   ]
  },
  {
   "cell_type": "markdown",
   "metadata": {},
   "source": [
    "### Assigning names to a Column"
   ]
  },
  {
   "cell_type": "code",
   "execution_count": 5,
   "metadata": {},
   "outputs": [
    {
     "name": "stdout",
     "output_type": "stream",
     "text": [
      "0    10000\n",
      "1    20000\n",
      "2    30000\n",
      "3    40000\n",
      "4    50000\n",
      "Name: Sales, dtype: int64\n"
     ]
    }
   ],
   "source": [
    "s.name=\"Sales\"\n",
    "print(s)"
   ]
  },
  {
   "cell_type": "markdown",
   "metadata": {},
   "source": [
    "### Indexing in a Series"
   ]
  },
  {
   "cell_type": "code",
   "execution_count": 6,
   "metadata": {},
   "outputs": [
    {
     "name": "stdout",
     "output_type": "stream",
     "text": [
      "10000\n",
      "0    10000\n",
      "1    20000\n",
      "Name: Sales, dtype: int64\n",
      "2    30000\n",
      "3    40000\n",
      "Name: Sales, dtype: int64\n"
     ]
    }
   ],
   "source": [
    "print(s[0])\n",
    "print(s[0:2])\n",
    "print(s[2:4])"
   ]
  },
  {
   "cell_type": "markdown",
   "metadata": {},
   "source": [
    "### Location based indexing"
   ]
  },
  {
   "cell_type": "code",
   "execution_count": 22,
   "metadata": {},
   "outputs": [
    {
     "name": "stdout",
     "output_type": "stream",
     "text": [
      "40000\n",
      "Feb    20000\n",
      "May    50000\n",
      "Apr    40000\n",
      "Name: Sales, dtype: int64\n"
     ]
    }
   ],
   "source": [
    "print(s.iloc[3])\n",
    "print(s.iloc[[1,4,3]])"
   ]
  },
  {
   "cell_type": "markdown",
   "metadata": {},
   "source": [
    "### Changing the indexes"
   ]
  },
  {
   "cell_type": "code",
   "execution_count": 8,
   "metadata": {},
   "outputs": [
    {
     "name": "stdout",
     "output_type": "stream",
     "text": [
      "Jan    10000\n",
      "Feb    20000\n",
      "Mar    30000\n",
      "Apr    40000\n",
      "May    50000\n",
      "Name: Sales, dtype: int64\n"
     ]
    }
   ],
   "source": [
    "indexes=[\"Jan\",\"Feb\",\"Mar\",\"Apr\",\"May\"]\n",
    "s.index=indexes\n",
    "print(s)"
   ]
  },
  {
   "cell_type": "markdown",
   "metadata": {},
   "source": [
    "### Using Label Based Indexing"
   ]
  },
  {
   "cell_type": "code",
   "execution_count": 9,
   "metadata": {},
   "outputs": [
    {
     "name": "stdout",
     "output_type": "stream",
     "text": [
      "Jan    10000\n",
      "May    50000\n",
      "Name: Sales, dtype: int64\n",
      "Feb    20000\n",
      "Mar    30000\n",
      "Apr    40000\n",
      "Name: Sales, dtype: int64\n"
     ]
    }
   ],
   "source": [
    "print(s.loc[[\"Jan\",\"May\"]])\n",
    "print(s.loc['Feb':'Apr'])"
   ]
  },
  {
   "cell_type": "markdown",
   "metadata": {},
   "source": [
    "### Making Series from Disctionary"
   ]
  },
  {
   "cell_type": "code",
   "execution_count": 10,
   "metadata": {},
   "outputs": [
    {
     "name": "stdout",
     "output_type": "stream",
     "text": [
      "Mango     2.3\n",
      "Banana    2.0\n",
      "Apple     1.7\n",
      "Orange    2.5\n",
      "Peach     1.9\n",
      "Name: Proteins, dtype: float64\n"
     ]
    }
   ],
   "source": [
    "fruits_proteins={'Mango' : 2.3,\n",
    "                 'Banana' : 2.0,\n",
    "                 'Apple' : 1.7,\n",
    "                 'Orange' : 2.5,\n",
    "                 'Peach' : 1.9,\n",
    "                 }\n",
    "s2=pd.Series(fruits_proteins, name=\"Proteins\")\n",
    "print(s2)"
   ]
  },
  {
   "cell_type": "code",
   "execution_count": 11,
   "metadata": {},
   "outputs": [
    {
     "name": "stdout",
     "output_type": "stream",
     "text": [
      "float64\n",
      "[2.3 2.  1.7 2.5 1.9]\n",
      "Index(['Mango', 'Banana', 'Apple', 'Orange', 'Peach'], dtype='object')\n"
     ]
    }
   ],
   "source": [
    "print(s2.dtype)\n",
    "print(s2.values)\n",
    "print(s2.index)"
   ]
  },
  {
   "cell_type": "markdown",
   "metadata": {},
   "source": [
    "### Conditional Selections"
   ]
  },
  {
   "cell_type": "code",
   "execution_count": 12,
   "metadata": {},
   "outputs": [
    {
     "name": "stdout",
     "output_type": "stream",
     "text": [
      "Apple    1.7\n",
      "Peach    1.9\n",
      "Name: Proteins, dtype: float64\n",
      "Mango     2.3\n",
      "Banana    2.0\n",
      "Orange    2.5\n",
      "Peach     1.9\n",
      "Name: Proteins, dtype: float64\n"
     ]
    }
   ],
   "source": [
    "print(s2[s2<2])\n",
    "#using mask\n",
    "mask=s2>=1.9\n",
    "print(s2[mask])"
   ]
  },
  {
   "cell_type": "markdown",
   "metadata": {},
   "source": [
    "### Logical Operators"
   ]
  },
  {
   "cell_type": "code",
   "execution_count": 13,
   "metadata": {},
   "outputs": [
    {
     "name": "stdout",
     "output_type": "stream",
     "text": [
      "Mango     2.3\n",
      "Banana    2.0\n",
      "Name: Proteins, dtype: float64\n",
      "Mango     2.3\n",
      "Banana    2.0\n",
      "Apple     1.7\n",
      "Orange    2.5\n",
      "Peach     1.9\n",
      "Name: Proteins, dtype: float64\n",
      "Apple    1.7\n",
      "Peach    1.9\n",
      "Name: Proteins, dtype: float64\n"
     ]
    }
   ],
   "source": [
    "mask = (s2>1.9) & (s2<2.5)\n",
    "print(s2[mask])\n",
    "\n",
    "mask = (s2>1.9) | (s2<2.5)\n",
    "print(s2[mask])\n",
    "\n",
    "mask = (~(s2>1.9))\n",
    "print(s2[mask])"
   ]
  },
  {
   "cell_type": "markdown",
   "metadata": {},
   "source": [
    "### Modifying the existing data in list"
   ]
  },
  {
   "cell_type": "code",
   "execution_count": 14,
   "metadata": {},
   "outputs": [
    {
     "name": "stdout",
     "output_type": "stream",
     "text": [
      "Mango     2.4\n",
      "Banana    2.0\n",
      "Apple     1.7\n",
      "Orange    2.5\n",
      "Peach     1.9\n",
      "Name: Proteins, dtype: float64\n"
     ]
    }
   ],
   "source": [
    "s2[\"Mango\"] = 2.4\n",
    "print(s2)"
   ]
  },
  {
   "cell_type": "markdown",
   "metadata": {},
   "source": [
    "### Quick Question"
   ]
  },
  {
   "cell_type": "code",
   "execution_count": 24,
   "metadata": {},
   "outputs": [
    {
     "name": "stdout",
     "output_type": "stream",
     "text": [
      "2\n",
      "4\n"
     ]
    }
   ],
   "source": [
    "s3=pd.Series([10,20,None,40,float('nan'),\"abc\"])\n",
    "print(s3.isnull().sum())\n",
    "print(s3.notnull().sum())"
   ]
  }
 ],
 "metadata": {
  "kernelspec": {
   "display_name": ".venv",
   "language": "python",
   "name": "python3"
  },
  "language_info": {
   "codemirror_mode": {
    "name": "ipython",
    "version": 3
   },
   "file_extension": ".py",
   "mimetype": "text/x-python",
   "name": "python",
   "nbconvert_exporter": "python",
   "pygments_lexer": "ipython3",
   "version": "3.13.3"
  }
 },
 "nbformat": 4,
 "nbformat_minor": 2
}
