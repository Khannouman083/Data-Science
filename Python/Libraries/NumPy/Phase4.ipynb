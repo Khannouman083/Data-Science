{
 "cells": [
  {
   "cell_type": "markdown",
   "metadata": {},
   "source": [
    "## File I/O Operations on Arrays"
   ]
  },
  {
   "cell_type": "code",
   "execution_count": 2,
   "metadata": {},
   "outputs": [],
   "source": [
    "import numpy as np\n",
    "import matplotlib.pyplot as plt"
   ]
  },
  {
   "cell_type": "code",
   "execution_count": 3,
   "metadata": {},
   "outputs": [],
   "source": [
    "array1= np.array([[1,2,3], [4,5,6]])\n",
    "array2= np.random.randint(0,9,size=(3,2))\n",
    "array3= np.full((3,3),4)"
   ]
  },
  {
   "cell_type": "markdown",
   "metadata": {},
   "source": [
    "### Saving Arrays to File"
   ]
  },
  {
   "cell_type": "code",
   "execution_count": 4,
   "metadata": {},
   "outputs": [],
   "source": [
    "np.save(\"array1.npy\", array1)\n",
    "np.save(\"array2.npy\", array2)\n",
    "np.save(\"array3.npy\", array3)"
   ]
  },
  {
   "cell_type": "markdown",
   "metadata": {},
   "source": [
    "### Loading Arrays from Files"
   ]
  },
  {
   "cell_type": "code",
   "execution_count": 5,
   "metadata": {},
   "outputs": [
    {
     "name": "stdout",
     "output_type": "stream",
     "text": [
      "[[1 2 3]\n",
      " [4 5 6]]\n",
      "[[1 4]\n",
      " [8 6]\n",
      " [5 2]]\n",
      "[[4 4 4]\n",
      " [4 4 4]\n",
      " [4 4 4]]\n"
     ]
    }
   ],
   "source": [
    "loaded_array1 = np.load(\"array1.npy\")\n",
    "loaded_array2 = np.load(\"array2.npy\")\n",
    "loaded_array3 = np.load(\"array3.npy\")\n",
    "\n",
    "print(loaded_array1)\n",
    "print(loaded_array2)\n",
    "print(loaded_array3)"
   ]
  },
  {
   "cell_type": "markdown",
   "metadata": {},
   "source": [
    "### Loading and Displaying NumPy Logo"
   ]
  },
  {
   "cell_type": "code",
   "execution_count": 6,
   "metadata": {},
   "outputs": [
    {
     "name": "stdout",
     "output_type": "stream",
     "text": [
      "File Path not found\n"
     ]
    }
   ],
   "source": [
    "try:\n",
    "    logo= np.load(\"numpy-logo.npy\")\n",
    "    \n",
    "    plt.Figure(figsize=(10,10))\n",
    "    plt.subplot(121)\n",
    "    plt.imshow(logo)\n",
    "    plt.title(\"Numpy Logo\")\n",
    "    plt.axis(\"off\")\n",
    "    plt.grid(False)\n",
    "    \n",
    "    dark_logo=1-logo\n",
    "    plt.subplot(122)\n",
    "    plt.imshow(dark_logo)\n",
    "    plt.title(\"Numpy Dark Logo\")\n",
    "    plt.axis(\"off\")\n",
    "    plt.grid(False)\n",
    "\n",
    "except FileNotFoundError:\n",
    "    print(\"File Path not found\")"
   ]
  },
  {
   "cell_type": "markdown",
   "metadata": {},
   "source": [
    "## Data Types in NumPy"
   ]
  },
  {
   "cell_type": "code",
   "execution_count": 7,
   "metadata": {},
   "outputs": [],
   "source": [
    "a = np.array([1, 2, 3], dtype=np.int32) #Integer\n",
    "b = np.array([1.1, 2.2], dtype=np.float64) #float\n",
    "c = np.array([True, False, True], dtype=np.bool_) #boolean\n",
    "d = np.array([1+2j, 3+4j], dtype=np.complex64) #complex\n",
    "e = np.array([\"hello\", \"world\"], dtype=np.str_) #String\n",
    "f = np.array([1, \"two\", 3.0], dtype=np.object_) #Numpy Object (Mixed Arrays)"
   ]
  },
  {
   "cell_type": "markdown",
   "metadata": {},
   "source": [
    "### Type Conversion"
   ]
  },
  {
   "cell_type": "code",
   "execution_count": 8,
   "metadata": {},
   "outputs": [
    {
     "name": "stdout",
     "output_type": "stream",
     "text": [
      "{'bool': <class 'numpy.bool'>, 'float16': <class 'numpy.float16'>, 'float32': <class 'numpy.float32'>, 'float64': <class 'numpy.float64'>, 'longdouble': <class 'numpy.longdouble'>, 'complex64': <class 'numpy.complex64'>, 'complex128': <class 'numpy.complex128'>, 'clongdouble': <class 'numpy.clongdouble'>, 'bytes_': <class 'numpy.bytes_'>, 'str_': <class 'numpy.str_'>, 'void': <class 'numpy.void'>, 'object_': <class 'numpy.object_'>, 'datetime64': <class 'numpy.datetime64'>, 'timedelta64': <class 'numpy.timedelta64'>, 'int8': <class 'numpy.int8'>, 'byte': <class 'numpy.int8'>, 'uint8': <class 'numpy.uint8'>, 'ubyte': <class 'numpy.uint8'>, 'int16': <class 'numpy.int16'>, 'short': <class 'numpy.int16'>, 'uint16': <class 'numpy.uint16'>, 'ushort': <class 'numpy.uint16'>, 'intc': <class 'numpy.intc'>, 'uintc': <class 'numpy.uintc'>, 'int32': <class 'numpy.int32'>, 'long': <class 'numpy.int32'>, 'uint32': <class 'numpy.uint32'>, 'ulong': <class 'numpy.uint32'>, 'int64': <class 'numpy.int64'>, 'longlong': <class 'numpy.int64'>, 'uint64': <class 'numpy.uint64'>, 'ulonglong': <class 'numpy.uint64'>, 'intp': <class 'numpy.int64'>, 'uintp': <class 'numpy.uint64'>, 'double': <class 'numpy.float64'>, 'cdouble': <class 'numpy.complex128'>, 'single': <class 'numpy.float32'>, 'csingle': <class 'numpy.complex64'>, 'half': <class 'numpy.float16'>, 'bool_': <class 'numpy.bool'>, 'int_': <class 'numpy.int64'>, 'uint': <class 'numpy.uint64'>, 'float': <class 'numpy.float64'>, 'complex': <class 'numpy.complex128'>, 'object': <class 'numpy.object_'>, 'bytes': <class 'numpy.bytes_'>, 'a': <class 'numpy.bytes_'>, 'int': <class 'numpy.int64'>, 'str': <class 'numpy.str_'>, 'unicode': <class 'numpy.str_'>}\n"
     ]
    }
   ],
   "source": [
    "arr = np.array([1.5, 2.8, 3.2])\n",
    "int_arr = arr.astype(np.int32)  # [1, 2, 3]\n",
    "print(np.sctypeDict)  # Shows all scalar types"
   ]
  },
  {
   "cell_type": "markdown",
   "metadata": {},
   "source": [
    "### Respresnting Data Types using Alphabets"
   ]
  },
  {
   "cell_type": "code",
   "execution_count": 9,
   "metadata": {},
   "outputs": [],
   "source": [
    "bool_arr = np.array([True, False], dtype='b')  # 'b' for boolean\n",
    "\n",
    "int8_arr = np.array([1, 2, 3], dtype='i1')     # 'i1' for int8 (1 byte)\n",
    "int16_arr = np.array([1000], dtype='i2')       # 'i2' for int16 (2 bytes)\n",
    "int32_arr = np.array([100000], dtype='i4')     # 'i4' for int32 (4 bytes)\n",
    "int64_arr = np.array([10000000000], dtype='i8')# 'i8' for int64 (8 bytes)\n",
    "\n",
    "uint8_arr = np.array([255], dtype='u1')        # 'u1' for uint8 (1 byte)\n",
    "uint16_arr = np.array([65535], dtype='u2')     # 'u2' for uint16 (2 bytes)\n",
    "uint32_arr = np.array([4294967295], dtype='u4')# 'u4' for uint32 (4 bytes)\n",
    "uint64_arr = np.array([2**64 - 1], dtype='u8') # 'u8' for uint64 (8 bytes)\n",
    "\n",
    "float16_arr = np.array([3.14], dtype='f2')     # 'f2' for float16 (2 bytes)\n",
    "float32_arr = np.array([3.14], dtype='f4')     # 'f4' for float32 (4 bytes)\n",
    "float64_arr = np.array([3.1415926535], dtype='f8') # 'f8' for float64 (8 bytes)\n",
    "\n",
    "complex64_arr = np.array([1+2j], dtype='c8')   # 'c8' = 2 * float32 (8 bytes)\n",
    "complex128_arr = np.array([1+2j], dtype='c16') # 'c16' = 2 * float64 (16 bytes)\n",
    "\n",
    "bytes_arr = np.array([b'abc', b'def'], dtype='S3') # 'S3' = 3-byte ASCII strings\n",
    "\n",
    "unicode_arr = np.array(['abc', 'def'], dtype='U3') # 'U3' = 3-character Unicode\n",
    "\n",
    "object_arr = np.array([1, \"two\", 3.0], dtype='O')  # 'O' for Python object\n",
    "\n",
    "datetime_arr = np.array(['2025-07-14'], dtype='M8[D]') # 'M8[D]' = datetime64 by day\n",
    "timedelta_arr = np.array([10], dtype='m8[D]')          # 'm8[D]' = timedelta64 in days\n"
   ]
  }
 ],
 "metadata": {
  "kernelspec": {
   "display_name": ".venv",
   "language": "python",
   "name": "python3"
  },
  "language_info": {
   "codemirror_mode": {
    "name": "ipython",
    "version": 3
   },
   "file_extension": ".py",
   "mimetype": "text/x-python",
   "name": "python",
   "nbconvert_exporter": "python",
   "pygments_lexer": "ipython3",
   "version": "3.13.3"
  }
 },
 "nbformat": 4,
 "nbformat_minor": 2
}
